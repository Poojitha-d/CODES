{
  "cells": [
    {
      "cell_type": "markdown",
      "metadata": {
        "id": "view-in-github",
        "colab_type": "text"
      },
      "source": [
        "<a href=\"https://colab.research.google.com/github/Poojitha-d/CODES/blob/main/Welcome_To_Colab.ipynb\" target=\"_parent\"><img src=\"https://colab.research.google.com/assets/colab-badge.svg\" alt=\"Open In Colab\"/></a>"
      ]
    },
    {
      "cell_type": "code",
      "source": [
        "#code 1\n",
        "import numpy as np\n",
        "arr=np.array([12,3,55,6,14,1])\n",
        "sort_arr=np.sort(arr)\n",
        "print(\"original array:\",arr)\n",
        "print(\"sorted array:\",sort_arr)"
      ],
      "metadata": {
        "colab": {
          "base_uri": "https://localhost:8080/"
        },
        "id": "vwjVIgwu4N4Z",
        "outputId": "54b1ef13-edbc-436b-ec64-4ba7c3cd58b4"
      },
      "execution_count": 3,
      "outputs": [
        {
          "output_type": "stream",
          "name": "stdout",
          "text": [
            "original array: [12  3 55  6 14  1]\n",
            "sorted array: [ 1  3  6 12 14 55]\n"
          ]
        }
      ]
    },
    {
      "cell_type": "code",
      "source": [
        "#code 2\n",
        "import pandas as pd\n",
        "data = {\n",
        "    'Name' : ['priya','pinky','mintu','nancy'],\n",
        "    'Age' : [22,24,27,29],\n",
        "    'Department' : ['HR','IT','Finance','Marketing'],\n",
        "    'Salary': [5000,6000,7000,8000]\n",
        "}\n",
        "df=pd.DataFrame(data)\n",
        "print(df)\n",
        "print(df.describe())\n",
        "print(df['Name'])"
      ],
      "metadata": {
        "colab": {
          "base_uri": "https://localhost:8080/"
        },
        "id": "WyOubQHU5q-x",
        "outputId": "51587cf8-a2d6-4cfe-ffbd-e38737022d67"
      },
      "execution_count": 9,
      "outputs": [
        {
          "output_type": "stream",
          "name": "stdout",
          "text": [
            "    Name  Age Department  Salary\n",
            "0  priya   22         HR    5000\n",
            "1  pinky   24         IT    6000\n",
            "2  mintu   27    Finance    7000\n",
            "3  nancy   29  Marketing    8000\n",
            "             Age       Salary\n",
            "count   4.000000     4.000000\n",
            "mean   25.500000  6500.000000\n",
            "std     3.109126  1290.994449\n",
            "min    22.000000  5000.000000\n",
            "25%    23.500000  5750.000000\n",
            "50%    25.500000  6500.000000\n",
            "75%    27.500000  7250.000000\n",
            "max    29.000000  8000.000000\n",
            "0    priya\n",
            "1    pinky\n",
            "2    mintu\n",
            "3    nancy\n",
            "Name: Name, dtype: object\n"
          ]
        }
      ]
    },
    {
      "cell_type": "code",
      "source": [
        "#code -3 :UCS ALGORITHM\n",
        "import heapq\n",
        "def uniform_cost_search(graph, start, goal):\n",
        "    priority_queue = [(0, start, [])]\n",
        "    visited = set()\n",
        "    while priority_queue:\n",
        "         cost, node, path = heapq.heappop(priority_queue)\n",
        "         if node in visited:\n",
        "              continue\n",
        "         path = path + [node]\n",
        "         visited.add(node)\n",
        "         if node == goal:\n",
        "              return cost, path\n",
        "         for neighbor, edge_cost in graph.get(node, []):\n",
        "              if neighbor not in visited:\n",
        "                    heapq.heappush(priority_queue, (cost + edge_cost, neighbor, path))\n",
        "float('inf'), []\n",
        "graph = {\n",
        "   'A': [('B', 2), ('C', 3)],\n",
        "   'B': [('A', 2), ('D', 1), ('E', 5)],\n",
        "   'C': [('A', 3), ('F', 6)],\n",
        "   'D': [('B', 1)],\n",
        "   'E': [('B', 5), ('G', 2)],\n",
        "   'F': [('C', 6)],\n",
        "   'G': [('E', 2)]\n",
        "}\n",
        "start_node = 'A'\n",
        "goal_node = 'G'\n",
        "cost, path = uniform_cost_search(graph, start_node, goal_node)\n",
        "print(f\"Least-cost path from {start_node} to {goal_node}: {path}\")\n",
        "print(f\"Total Cost: {cost}\")"
      ],
      "metadata": {
        "colab": {
          "base_uri": "https://localhost:8080/"
        },
        "id": "433VWqoAXq9D",
        "outputId": "7faa8216-68f1-4aee-ae8f-8036c42652fd"
      },
      "execution_count": 10,
      "outputs": [
        {
          "output_type": "stream",
          "name": "stdout",
          "text": [
            "Least-cost path from A to G: ['A', 'B', 'E', 'G']\n",
            "Total Cost: 9\n"
          ]
        }
      ]
    },
    {
      "cell_type": "code",
      "source": [
        "#code - 4 : A* ALGORITHM\n",
        "\n",
        "import heapq\n",
        "def a_star_search(graph, start, goal, heuristic):\n",
        "    open_list = []\n",
        "    heapq.heappush(open_list, (0, start))\n",
        "    g_score = {node: float('inf') for node in graph}\n",
        "    g_score[start] = 0\n",
        "    f_score = {node: float('inf') for node in graph}\n",
        "    f_score[start] = heuristic[start]\n",
        "    came_from = {}\n",
        "    while open_list:\n",
        "        _, current = heapq.heappop(open_list)\n",
        "        if current == goal:\n",
        "            path = []\n",
        "            while current in came_from:\n",
        "                path.append(current)\n",
        "                current = came_from[current]\n",
        "            path.append(start)\n",
        "            return path[::-1]\n",
        "        for neighbor, cost in graph[current].items():\n",
        "            temp_g = g_score[current] + cost\n",
        "            if temp_g < g_score[neighbor]:\n",
        "                came_from[neighbor] = current\n",
        "                g_score[neighbor] = temp_g\n",
        "                f_score[neighbor] = temp_g + heuristic[neighbor]\n",
        "                heapq.heappush(open_list, (f_score[neighbor], neighbor))\n",
        "    return None\n",
        "\n",
        "graph={'A':{'B':4,'C':3},\n",
        "       'B':{'A':4,'E':12,'F':5},\n",
        "       'C':{'A':3,'D':7,'E':10},\n",
        "       'D':{'C':7,'E':2},\n",
        "       'E':{'B':12,'C':10,'D':2,'Z':5},\n",
        "       'F':{'B':5,'Z':16},\n",
        "       'Z':{'E':5,'F':16}}\n",
        "heuristic={'A':14,'B':12,'C':11,'D':6,'E':4,'F':11,'Z':0}\n",
        "start='A'\n",
        "goal='Z'\n",
        "path=a_star_search(graph,start,goal,heuristic)\n",
        "print(path)\n",
        "print(\"A* Path and Cost Calculation:\")\n",
        "path = a_star_search(graph, start, goal, heuristic)\n",
        "print(f\"A* Path: {'->'.join(path)}\")\n",
        "cost = sum(graph[path[i]][path[i + 1]] for i in range(len(path) - 1))\n",
        "print(f\"Total Cost: {cost}\")"
      ],
      "metadata": {
        "colab": {
          "base_uri": "https://localhost:8080/"
        },
        "id": "mKVY25B1bQa4",
        "outputId": "e99e505a-3b8b-44d8-ddda-335f1fbd3b40"
      },
      "execution_count": 12,
      "outputs": [
        {
          "output_type": "stream",
          "name": "stdout",
          "text": [
            "['A', 'C', 'D', 'E', 'Z']\n",
            "A* Path and Cost Calculation:\n",
            "A* Path: A->C->D->E->Z\n",
            "Total Cost: 17\n"
          ]
        }
      ]
    },
    {
      "cell_type": "code",
      "source": [
        "#code - 5: HILL CLIMBING ALGORITHM\n",
        "\n",
        "import random\n",
        "def objective_fun(x):\n",
        "    return -x**2 + 4*x\n",
        "def hill_climb(start, step_size = 0.1, max_iteration=100):\n",
        "    current_x = start\n",
        "    current_value = objective_fun(current_x)\n",
        "    for i in range(max_iteration):\n",
        "        neighbors = [current_x + step_size, current_x - step_size]\n",
        "        neighbor_values = [objective_fun(neighbor) for neighbor in neighbors]\n",
        "        best_value = max(neighbor_values)\n",
        "        best_neighbor = neighbors[neighbor_values.index(best_value)]\n",
        "        if best_value > current_value:\n",
        "            current_x = best_neighbor\n",
        "            current_value = best_value\n",
        "        else:\n",
        "            break\n",
        "    return current_x, current_value\n",
        "start = random.uniform(-10, 10)\n",
        "result = hill_climb(start)\n",
        "print(f\"Best solution: x = {result[0]}, value = {result[1]}\")"
      ],
      "metadata": {
        "colab": {
          "base_uri": "https://localhost:8080/"
        },
        "id": "glpVLVIGgn5J",
        "outputId": "e5486e36-bee1-470d-d06f-9f60b350f34e"
      },
      "execution_count": 13,
      "outputs": [
        {
          "output_type": "stream",
          "name": "stdout",
          "text": [
            "Best solution: x = 2.0180665947163305, value = 3.999673598155356\n"
          ]
        }
      ]
    },
    {
      "cell_type": "code",
      "source": [
        "#code -6 : ALPHA-BETA PrUNING\n",
        "MAX, MIN = 1000, -1000\n",
        "def minimax(depth,nodeIndex,maximizingPlayer,values,alpha,beta):\n",
        "    if depth == 3:\n",
        "        return values[nodeIndex]\n",
        "\n",
        "    if maximizingPlayer:\n",
        "        best = MIN\n",
        "        for i in range(0, 2):\n",
        "            val = minimax(depth + 1,nodeIndex * 2 + i, False, values, alpha, beta)\n",
        "            best = max(best,val)\n",
        "            alpha = max(alpha, best)\n",
        "            if beta <= alpha:\n",
        "                break\n",
        "        return best\n",
        "\n",
        "    else:\n",
        "        best = MAX\n",
        "        for i in range(0, 2):\n",
        "            val = minimax(depth + 1, nodeIndex * 2 + i, True, values, alpha, beta)\n",
        "            best = min(best, val)\n",
        "            beta = min(beta, best)\n",
        "            if beta <= alpha:\n",
        "                break\n",
        "        return best\n",
        "\n",
        "if __name__ == \"__main__\":\n",
        "    values = [3, 5, 6, 9, 1, 2, 0, -1]\n",
        "print(\"The optimal value is :\",minimax(0,0,True,values,MIN,MAX))"
      ],
      "metadata": {
        "colab": {
          "base_uri": "https://localhost:8080/"
        },
        "id": "rARUMjTXhPG-",
        "outputId": "6989bc85-91e9-4916-c980-079300c90ed9"
      },
      "execution_count": 17,
      "outputs": [
        {
          "output_type": "stream",
          "name": "stdout",
          "text": [
            "The optimal value is : 5\n"
          ]
        }
      ]
    },
    {
      "cell_type": "code",
      "source": [],
      "metadata": {
        "id": "LdObFSTriD07"
      },
      "execution_count": null,
      "outputs": []
    }
  ],
  "metadata": {
    "colab": {
      "name": "Welcome To Colab",
      "provenance": [],
      "include_colab_link": true
    },
    "kernelspec": {
      "display_name": "Python 3",
      "name": "python3"
    }
  },
  "nbformat": 4,
  "nbformat_minor": 0
}