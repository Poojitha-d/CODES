{
  "cells": [
    {
      "cell_type": "markdown",
      "metadata": {
        "id": "view-in-github",
        "colab_type": "text"
      },
      "source": [
        "<a href=\"https://colab.research.google.com/github/Poojitha-d/CODES/blob/main/Copy_of_Welcome_To_Colab.ipynb\" target=\"_parent\"><img src=\"https://colab.research.google.com/assets/colab-badge.svg\" alt=\"Open In Colab\"/></a>"
      ]
    },
    {
      "cell_type": "code",
      "source": [
        "#2\n",
        "import pandas as pd\n",
        "import numpy as np\n",
        "data = [15,22,29,21,15,24,32,21,15,30]\n",
        "mean = np.mean(data)\n",
        "median = np.median(data)\n",
        "variance = np.var(data)\n",
        "std_dev = np.std(data)\n",
        "mode = pd.Series(data).mode()\n",
        "print(\"Mean:\", mean)\n",
        "print(\"Median:\", median)\n",
        "print(\"variance:\",variance)\n",
        "print(\"Standard Deviation:\", std_dev)\n",
        "print(\"Mode:\", mode)\n"
      ],
      "metadata": {
        "colab": {
          "base_uri": "https://localhost:8080/"
        },
        "id": "2DFEVgZiUd7Y",
        "outputId": "17a34a01-3e62-4493-ac8e-435b805b0c5e"
      },
      "execution_count": 3,
      "outputs": [
        {
          "output_type": "stream",
          "name": "stdout",
          "text": [
            "Mean: 22.4\n",
            "Median: 21.5\n",
            "variance: 36.44\n",
            "Standard Deviation: 6.036555309114628\n",
            "Mode: 0    15\n",
            "dtype: int64\n"
          ]
        }
      ]
    },
    {
      "cell_type": "code",
      "source": [
        "#4\n",
        "name = \"priya\"\n",
        "age = 10\n",
        "height = 5.6\n",
        "is_active = True\n",
        "print(f\"Name:{name},Age:{age},Height:{height}m,Active:{is_active}\")"
      ],
      "metadata": {
        "colab": {
          "base_uri": "https://localhost:8080/"
        },
        "id": "syodh079XXiI",
        "outputId": "071a8e1e-0bf2-4deb-ec51-4df6ad9ed341"
      },
      "execution_count": 5,
      "outputs": [
        {
          "output_type": "stream",
          "name": "stdout",
          "text": [
            "Name:priya,Age:10,Height:5.6m,Active:True\n"
          ]
        }
      ]
    },
    {
      "cell_type": "code",
      "source": [
        "#5\n",
        "a=int(input(\"Enter a number: \"))\n",
        "if a>0:\n",
        "  print(a,\"is a positive number.\")\n",
        "else:\n",
        "  print(a,\"is a negative number.\")"
      ],
      "metadata": {
        "colab": {
          "base_uri": "https://localhost:8080/"
        },
        "id": "Nj-tPSaeX9Qa",
        "outputId": "eadfae32-3718-4560-c895-87bc848fb0c6"
      },
      "execution_count": 6,
      "outputs": [
        {
          "output_type": "stream",
          "name": "stdout",
          "text": [
            "Enter a number: -13\n",
            "-13 is a negative number.\n"
          ]
        }
      ]
    },
    {
      "cell_type": "code",
      "source": [
        "#6\n",
        "a = int(input(\"Enter a number : \"))\n",
        "for i in range (1,11):\n",
        "  print(a,\"x\",i,\"=\",a*i)"
      ],
      "metadata": {
        "id": "Woa9WhsecBzF",
        "outputId": "5ff615de-b3c2-41c6-ca2a-29f83ab1c8b7",
        "colab": {
          "base_uri": "https://localhost:8080/"
        }
      },
      "execution_count": null,
      "outputs": [
        {
          "output_type": "stream",
          "name": "stdout",
          "text": [
            "Enter a number : 4\n",
            "4 x 1 = 4\n",
            "4 x 2 = 8\n",
            "4 x 3 = 12\n",
            "4 x 4 = 16\n",
            "4 x 5 = 20\n",
            "4 x 6 = 24\n",
            "4 x 7 = 28\n",
            "4 x 8 = 32\n",
            "4 x 9 = 36\n",
            "4 x 10 = 40\n"
          ]
        }
      ]
    },
    {
      "cell_type": "code",
      "source": [
        "#7\n",
        "fruits = [\"Mango\",\"Cherry\",\"Orange\",\"Banana\",\"Apple\"]\n",
        "print(\"First fruit:\", fruits[0])\n",
        "fruits.append(\"Strawberry\")\n",
        "print(\"List after appending a fruit:\",fruits)\n",
        "fruits.remove(\"Orange\")\n",
        "print(\"List after removing Banana:\",fruits)\n",
        "fruits.sort()\n",
        "print(\"List after sorting:\",fruits)\n",
        "print(\"Length of the list:\",len(fruits))\n"
      ],
      "metadata": {
        "id": "h_uwqGincD07",
        "outputId": "0233dbab-fb89-42ad-d74e-d5b17d662c28",
        "colab": {
          "base_uri": "https://localhost:8080/"
        }
      },
      "execution_count": null,
      "outputs": [
        {
          "output_type": "stream",
          "name": "stdout",
          "text": [
            "First fruit: Mango\n",
            "List after appending a fruit: ['Mango', 'Cherry', 'Orange', 'Banana', 'Apple', 'Strawberry']\n",
            "List after removing Banana: ['Mango', 'Cherry', 'Banana', 'Apple', 'Strawberry']\n",
            "List after sorting: ['Apple', 'Banana', 'Cherry', 'Mango', 'Strawberry']\n",
            "Length of the list: 5\n"
          ]
        }
      ]
    },
    {
      "cell_type": "code",
      "source": [
        "#8\n",
        "numbers = (15, 20, 5, 10, 25)\n",
        "print(\"Element at index 2\", numbers [2])\n",
        "count_5 = numbers.count(15)\n",
        "print(\"Count of 15 in the tuple:\",count_5)\n",
        "index_of_10 = numbers.index(10)\n",
        "print(\"Index of 10 in the tuples\", index_of_10)\n",
        "print(\"Length of the tuple:\", len(numbers))\n",
        "sliced_tuple = numbers [1:4]\n",
        "print(\"Sliced portion of the tuple (from index 1 to 3):\", sliced_tuple)"
      ],
      "metadata": {
        "id": "-s8IY71ceB_Y",
        "outputId": "24e8b2b1-2cc9-40a7-e56e-aea350c6f6fd",
        "colab": {
          "base_uri": "https://localhost:8080/"
        }
      },
      "execution_count": null,
      "outputs": [
        {
          "output_type": "stream",
          "name": "stdout",
          "text": [
            "Element at index 2 5\n",
            "Count of 15 in the tuple: 1\n",
            "Index of 10 in the tuples 3\n",
            "Length of the tuple: 5\n",
            "Sliced portion of the tuple (from index 1 to 3): (20, 5, 10)\n"
          ]
        }
      ]
    },
    {
      "cell_type": "code",
      "source": [
        "#9\n",
        "students_marks = {\"Ammu\": 85, \"Bunny\": 92, \"Chay\": 78}\n",
        "print(\"Marks of Bunny:\",students_marks[\"Bunny\"])\n",
        "students_marks [\"Dora\"]= 88\n",
        "print(\"Dictionary after adding Dora:\", students_marks)\n",
        "students_marks [\"Ammu\"]= 90\n",
        "del students_marks[\"Chay\"]\n",
        "print(\"Dictionary after removing Chay:\", students_marks)\n",
        "if \"Bunny\" in students_marks:\n",
        " print(\"Bunny is in the dictionary.\")\n",
        "else:\n",
        " print(\"Bunny is not in the dictionary.\")\n",
        "print(\"Number of students:\", len(students_marks))"
      ],
      "metadata": {
        "id": "xaSRObGQfuh4",
        "outputId": "fa1c79d1-dc1b-4def-ae43-9c5397d6501a",
        "colab": {
          "base_uri": "https://localhost:8080/"
        }
      },
      "execution_count": null,
      "outputs": [
        {
          "output_type": "stream",
          "name": "stdout",
          "text": [
            "Marks of Bunny: 92\n",
            "Dictionary after adding Dora: {'Ammu': 85, 'Bunny': 92, 'Chay': 78, 'Dora': 88}\n",
            "Dictionary after removing Chay: {'Ammu': 90, 'Bunny': 92, 'Dora': 88}\n",
            "Bunny is in the dictionary.\n",
            "Number of students: 3\n"
          ]
        }
      ]
    },
    {
      "cell_type": "code",
      "source": [
        "#10\n",
        "set1 = {1, 2, 3, 4, 5}\n",
        "set2 = {4, 5, 6, 7, 8}\n",
        "\n",
        "print(\"Set 1:\", set1)\n",
        "print(\"Set 2:\", set2)\n",
        "\n",
        "print(\"Union:\", set1 | set2)\n",
        "print(\"Intersection:\", set1 & set2)\n",
        "print(\"Difference (Set1 - Set2):\", set1 - set2)\n",
        "print(\"Symmetric Difference:\", set1 ^ set2)\n"
      ],
      "metadata": {
        "id": "LlcUEe4Cit1K",
        "outputId": "ecf76186-8743-4736-fffa-278d25797309",
        "colab": {
          "base_uri": "https://localhost:8080/"
        }
      },
      "execution_count": 7,
      "outputs": [
        {
          "output_type": "stream",
          "name": "stdout",
          "text": [
            "Set 1: {1, 2, 3, 4, 5}\n",
            "Set 2: {4, 5, 6, 7, 8}\n",
            "Union: {1, 2, 3, 4, 5, 6, 7, 8}\n",
            "Intersection: {4, 5}\n",
            "Difference (Set1 - Set2): {1, 2, 3}\n",
            "Symmetric Difference: {1, 2, 3, 6, 7, 8}\n"
          ]
        }
      ]
    },
    {
      "cell_type": "code",
      "source": [
        "#11\n",
        "def find_largest(numbers):\n",
        "    return max(numbers)\n",
        "\n",
        "sample_list = [12, 45, 78, 23, 89, 56]\n",
        "print(\"Largest number:\", find_largest(sample_list))\n"
      ],
      "metadata": {
        "id": "QjnoLIs1j-aL",
        "outputId": "d518bd86-5d0c-4ef2-dc6c-a7cecf7513ff",
        "colab": {
          "base_uri": "https://localhost:8080/"
        }
      },
      "execution_count": null,
      "outputs": [
        {
          "output_type": "stream",
          "name": "stdout",
          "text": [
            "Largest number: 89\n"
          ]
        }
      ]
    },
    {
      "cell_type": "code",
      "source": [
        "#12\n",
        "squares = [x**2 for x in range(1, 21) if x % 2 == 0]\n",
        "print(squares)\n"
      ],
      "metadata": {
        "id": "wm8QD133kz-4",
        "outputId": "58fad8a6-dd79-43a7-a254-db40d53ba0f4",
        "colab": {
          "base_uri": "https://localhost:8080/"
        }
      },
      "execution_count": null,
      "outputs": [
        {
          "output_type": "stream",
          "name": "stdout",
          "text": [
            "[4, 16, 36, 64, 100, 144, 196, 256, 324, 400]\n"
          ]
        }
      ]
    },
    {
      "cell_type": "code",
      "source": [
        "#13\n",
        "product = lambda x, y: x * y\n",
        "\n",
        "a = int(input(\"Enter first number: \"))\n",
        "b = int(input(\"Enter second number: \"))\n",
        "\n",
        "print(\"Product:\", product(a, b))\n"
      ],
      "metadata": {
        "id": "gsIpsr4Rk0s8",
        "outputId": "4d0e92a8-b9a7-4d0f-8d9f-63a11ad04558",
        "colab": {
          "base_uri": "https://localhost:8080/"
        }
      },
      "execution_count": null,
      "outputs": [
        {
          "output_type": "stream",
          "name": "stdout",
          "text": [
            "Enter first number: 3\n",
            "Enter second number: 5\n",
            "Product: 15\n"
          ]
        }
      ]
    },
    {
      "cell_type": "code",
      "source": [
        "#14\n",
        "import numpy as np\n",
        "\n",
        "arr1D = np.array([1, 2, 3, 4, 5])\n",
        "print(arr1D)\n",
        "print(arr1D.shape)\n",
        "print(arr1D.ndim)\n",
        "\n",
        "arr2D = np.array([[1, 2, 3], [4, 5, 6]])\n",
        "print(arr2D)\n",
        "print(arr2D.shape)\n",
        "print(arr2D.ndim)\n",
        "\n",
        "arr3D = np.array([[[1, 2], [3, 4]], [[5, 6], [7, 8]]])\n",
        "print(arr3D)\n",
        "print(arr3D.shape)\n",
        "print(arr3D.ndim)\n"
      ],
      "metadata": {
        "id": "RiKr_yj7lGwX",
        "outputId": "c6aa4ac6-db40-40a2-aad4-27ae728e1fc1",
        "colab": {
          "base_uri": "https://localhost:8080/"
        }
      },
      "execution_count": null,
      "outputs": [
        {
          "output_type": "stream",
          "name": "stdout",
          "text": [
            "[1 2 3 4 5]\n",
            "(5,)\n",
            "1\n",
            "[[1 2 3]\n",
            " [4 5 6]]\n",
            "(2, 3)\n",
            "2\n",
            "[[[1 2]\n",
            "  [3 4]]\n",
            "\n",
            " [[5 6]\n",
            "  [7 8]]]\n",
            "(2, 2, 2)\n",
            "3\n"
          ]
        }
      ]
    },
    {
      "cell_type": "code",
      "source": [
        "#15\n",
        "import numpy as np\n",
        "\n",
        "array = np.random.randint(0, 100, size=(5, 5))\n",
        "print(\"Generated 5x5 NumPy Array of Random Integers:\")\n",
        "print(array)\n",
        "\n",
        "element = array[1, 2]\n",
        "print(\"\\nElement at row 2, column 3:\", element)\n",
        "\n",
        "third_row = array[2]\n",
        "print(\"\\n3rd Row of the Array:\", third_row)\n",
        "\n",
        "fourth_column = array[:, 3]\n",
        "print(\"\\n4th Column of the Array:\", fourth_column)\n",
        "\n",
        "subarray = array[1:3, 2:4]\n",
        "print(\"\\nSubarray (rows 1 to 2 and columns 2 to 3):\")\n",
        "print(subarray)\n",
        "\n",
        "last_row = array[-1]\n",
        "print(\"\\nLast Row of the Array:\", last_row)\n",
        "\n",
        "last_column = array[:, -1]\n",
        "print(\"Last Column of the Array:\", last_column)\n"
      ],
      "metadata": {
        "id": "JTZlOYdrm3zR",
        "outputId": "14ea597b-70f8-4956-9c7a-576148a73adf",
        "colab": {
          "base_uri": "https://localhost:8080/"
        }
      },
      "execution_count": null,
      "outputs": [
        {
          "output_type": "stream",
          "name": "stdout",
          "text": [
            "Generated 5x5 NumPy Array of Random Integers:\n",
            "[[53  0 13 19 11]\n",
            " [45 87 35 10 84]\n",
            " [52 80 82 10 42]\n",
            " [35 33 25 62 17]\n",
            " [88 52 81 86 69]]\n",
            "\n",
            "Element at row 2, column 3: 35\n",
            "\n",
            "3rd Row of the Array: [52 80 82 10 42]\n",
            "\n",
            "4th Column of the Array: [19 10 10 62 86]\n",
            "\n",
            "Subarray (rows 1 to 2 and columns 2 to 3):\n",
            "[[35 10]\n",
            " [82 10]]\n",
            "\n",
            "Last Row of the Array: [88 52 81 86 69]\n",
            "Last Column of the Array: [11 84 42 17 69]\n"
          ]
        }
      ]
    },
    {
      "cell_type": "code",
      "source": [
        "#16\n",
        "import numpy as np\n",
        "\n",
        "array = np.arange(1, 17).reshape(4, 4)\n",
        "print(\"Generated 4x4 NumPy Array:\")\n",
        "print(array)\n",
        "# Extracting sliced array\n",
        "center_subarray = array[1:3, 1:3]\n",
        "print(\"\\nCenter 2x2 Subarray:\")\n",
        "print(center_subarray)\n",
        "\n",
        "# Extracting diagonal elements\n",
        "diagonal_elements = array.diagonal()\n",
        "print(\"\\nDiagonal Elements:\")\n",
        "print(diagonal_elements)\n"
      ],
      "metadata": {
        "id": "_SpAK-nanRnl",
        "outputId": "8d4eeba8-dcb2-4ee9-bfb0-1273beb7dc7c",
        "colab": {
          "base_uri": "https://localhost:8080/"
        }
      },
      "execution_count": null,
      "outputs": [
        {
          "output_type": "stream",
          "name": "stdout",
          "text": [
            "Generated 4x4 NumPy Array:\n",
            "[[ 1  2  3  4]\n",
            " [ 5  6  7  8]\n",
            " [ 9 10 11 12]\n",
            " [13 14 15 16]]\n",
            "\n",
            "Center 2x2 Subarray:\n",
            "[[ 6  7]\n",
            " [10 11]]\n",
            "\n",
            "Diagonal Elements:\n",
            "[ 1  6 11 16]\n"
          ]
        }
      ]
    },
    {
      "cell_type": "code",
      "source": [
        "#17\n",
        "import numpy as np\n",
        "\n",
        "array_2D = np.arange(1, 13).reshape(6, 2)\n",
        "print(array_2D)\n",
        "\n",
        "array_3D = array_2D.reshape(2, 3, 2)\n",
        "print(array_3D)\n",
        "\n",
        "flattened_array = array_3D.flatten()\n",
        "print(flattened_array)\n",
        "\n"
      ],
      "metadata": {
        "id": "Z4ZtL5TioU1R",
        "outputId": "b95f8ee4-89d4-49e4-f0c9-05479de02216",
        "colab": {
          "base_uri": "https://localhost:8080/"
        }
      },
      "execution_count": null,
      "outputs": [
        {
          "output_type": "stream",
          "name": "stdout",
          "text": [
            "[[ 1  2]\n",
            " [ 3  4]\n",
            " [ 5  6]\n",
            " [ 7  8]\n",
            " [ 9 10]\n",
            " [11 12]]\n",
            "[[[ 1  2]\n",
            "  [ 3  4]\n",
            "  [ 5  6]]\n",
            "\n",
            " [[ 7  8]\n",
            "  [ 9 10]\n",
            "  [11 12]]]\n",
            "[ 1  2  3  4  5  6  7  8  9 10 11 12]\n"
          ]
        }
      ]
    },
    {
      "cell_type": "code",
      "source": [
        "#18\n",
        "import numpy as np\n",
        "\n",
        "array_2D = np.array([[1, 2, 3], [4, 5, 6], [7, 8, 9]])\n",
        "array_1D = np.array([10, 20, 30])\n",
        "\n",
        "result = array_2D + array_1D\n",
        "print(array_2D)\n",
        "print(array_1D)\n",
        "print(result)\n"
      ],
      "metadata": {
        "id": "Lu7uaZXaoprJ",
        "outputId": "13ec6162-6ecb-430d-bee1-ca381f54d359",
        "colab": {
          "base_uri": "https://localhost:8080/"
        }
      },
      "execution_count": null,
      "outputs": [
        {
          "output_type": "stream",
          "name": "stdout",
          "text": [
            "[[1 2 3]\n",
            " [4 5 6]\n",
            " [7 8 9]]\n",
            "[10 20 30]\n",
            "[[11 22 33]\n",
            " [14 25 36]\n",
            " [17 28 39]]\n"
          ]
        }
      ]
    },
    {
      "cell_type": "code",
      "source": [
        "#19\n",
        "import numpy as np\n",
        "\n",
        "A = np.array([[1, 2, 3], [4, 5, 6], [7, 8, 9]])\n",
        "B = np.array([[9, 8, 7], [6, 5, 4], [3, 2, 1]])\n",
        "\n",
        "addition = A + B\n",
        "subtraction = A - B\n",
        "multiplication = A * B\n",
        "division = A / B\n",
        "\n",
        "print(addition)\n",
        "print(subtraction)\n",
        "print(multiplication)\n",
        "print(division)\n"
      ],
      "metadata": {
        "id": "5r6_xhgLpGi-",
        "outputId": "d1adcd59-b550-47ac-c1c3-18325c8ede1b",
        "colab": {
          "base_uri": "https://localhost:8080/"
        }
      },
      "execution_count": null,
      "outputs": [
        {
          "output_type": "stream",
          "name": "stdout",
          "text": [
            "[[10 10 10]\n",
            " [10 10 10]\n",
            " [10 10 10]]\n",
            "[[-8 -6 -4]\n",
            " [-2  0  2]\n",
            " [ 4  6  8]]\n",
            "[[ 9 16 21]\n",
            " [24 25 24]\n",
            " [21 16  9]]\n",
            "[[0.11111111 0.25       0.42857143]\n",
            " [0.66666667 1.         1.5       ]\n",
            " [2.33333333 4.         9.        ]]\n"
          ]
        }
      ]
    },
    {
      "cell_type": "code",
      "source": [
        "#20\n",
        "import pandas as pd\n",
        "\n",
        "data = {\n",
        "    'Name': ['Alice', 'Bob', 'Charlie'],\n",
        "    'Math': [85, 78, 92],\n",
        "    'Science': [88, 74, 95],\n",
        "    'English': [90, 82, 88]\n",
        "}\n",
        "\n",
        "df = pd.DataFrame(data)\n",
        "df['Total'] = df[['Math', 'Science', 'English']].sum(axis=1)\n",
        "\n",
        "df['Grade'] = df['Total'].apply(lambda x: 'A' if x >= 250 else ('B' if x >= 200 else 'C'))\n",
        "\n",
        "print(df)\n"
      ],
      "metadata": {
        "id": "65L6G538pedR",
        "outputId": "83cfc632-e1cb-4d50-db98-20ae88efec5c",
        "colab": {
          "base_uri": "https://localhost:8080/"
        }
      },
      "execution_count": null,
      "outputs": [
        {
          "output_type": "stream",
          "name": "stdout",
          "text": [
            "      Name  Math  Science  English  Total Grade\n",
            "0    Alice    85       88       90    263     A\n",
            "1      Bob    78       74       82    234     B\n",
            "2  Charlie    92       95       88    275     A\n"
          ]
        }
      ]
    },
    {
      "cell_type": "code",
      "source": [],
      "metadata": {
        "id": "3_lU0DchpxoN"
      },
      "execution_count": null,
      "outputs": []
    }
  ],
  "metadata": {
    "colab": {
      "provenance": [],
      "include_colab_link": true
    },
    "kernelspec": {
      "display_name": "Python 3",
      "name": "python3"
    }
  },
  "nbformat": 4,
  "nbformat_minor": 0
}